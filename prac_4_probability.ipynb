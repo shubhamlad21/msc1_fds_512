{
 "cells": [
  {
   "cell_type": "markdown",
   "metadata": {
    "id": "KE8dIGeMIdWB"
   },
   "source": [
    "# Probability\n",
    "Definition : Probability is a measure of the likelihood of an event to occur. Many events cannot be predicted with total certainty. We can predict only the chance of an event to occur i.e. how likely they are to happen, using it. Probability can range in from 0 to 1, where 0 means the event to be an impossible one and 1 indicates a certain event.The probability of all the events in a sample space adds up to 1.\n",
    "\n",
    "\n",
    "---\n",
    "\n",
    "\n",
    "Formula for Probability\n",
    "\n",
    "The probability formula is defined as the possibility of an event to happen is equal to the ratio of the number of favourable outcomes and the total number of outcomes.\n",
    "\n",
    "Probability of event to happen P(E) = Number of favourable outcomes/Total Number of outcomes"
   ]
  },
  {
   "cell_type": "markdown",
   "metadata": {
    "id": "I6VUlWHdIkij"
   },
   "source": [
    "Example 1:"
   ]
  },
  {
   "cell_type": "code",
   "execution_count": 26,
   "metadata": {
    "id": "8gkuB-sr-wDu"
   },
   "outputs": [
    {
     "name": "stdout",
     "output_type": "stream",
     "text": [
      "probability of getting 3 is: 0.16666666666666666\n"
     ]
    }
   ],
   "source": [
    "# probability of getting 3 when a die is rolled\n",
    "ns = 6 #n(S) = {1,2,3,4,5,6}\n",
    "na = 1 #n(A) = {3}\n",
    "pa = na/ns # P(A)\n",
    "print(\"probability of getting 3 is:\",pa)"
   ]
  },
  {
   "cell_type": "markdown",
   "metadata": {
    "id": "N_gaYiJ2IsSz"
   },
   "source": [
    "Example 2:"
   ]
  },
  {
   "cell_type": "code",
   "execution_count": 27,
   "metadata": {
    "id": "Jf3Ymbv_Ipmi"
   },
   "outputs": [
    {
     "name": "stdout",
     "output_type": "stream",
     "text": [
      "probability of getting atleast one head is: 0.875\n"
     ]
    }
   ],
   "source": [
    "# probability of atleast getting one head when a coin is tossed thrice\n",
    "ns = 8 #n(S) = {HHH, HHT, HTH, THH, TTH, THT, HTT, TTT}\n",
    "na = 7 #n(A) = {HHH, HHT, HTH, THH, TTH, THT, HTT}\n",
    "pa = na/ns # P(A)\n",
    "print(\"probability of getting atleast one head is:\",pa)"
   ]
  },
  {
   "cell_type": "code",
   "execution_count": 28,
   "metadata": {
    "id": "kScPLM14Iv_q"
   },
   "outputs": [
    {
     "name": "stdout",
     "output_type": "stream",
     "text": [
      "probability of getting not blue jellybean is: 0.7\n"
     ]
    }
   ],
   "source": [
    "# A glass jar contains 5 red, 3 blue and 2 green jelly beans. If a jelly bean is chosen at random from the jar, \n",
    "#  mwhat is the probability that it is not blue?\n",
    "ns = 10 #n(S) = {5red,3blue,2green}\n",
    "na = 7 #n(A) = {5red, 2green}\n",
    "pa = na/ns # P(A)\n",
    "print(\"probability of getting not blue jellybean is:\",pa)"
   ]
  },
  {
   "cell_type": "markdown",
   "metadata": {
    "id": "sa-dRqmrIz1I"
   },
   "source": [
    "# Independent and Dependent Events\n",
    "If the occurrence of any event is completely unaffected by the occurrence of any other event, such events are known as an independent event in probability and the events which are affected by other events are known as dependent events."
   ]
  },
  {
   "cell_type": "markdown",
   "metadata": {
    "id": "qtzuHTTCI5xS"
   },
   "source": [
    "Example 1:"
   ]
  },
  {
   "cell_type": "code",
   "execution_count": 29,
   "metadata": {
    "id": "7sIDohJSIv7p"
   },
   "outputs": [
    {
     "name": "stdout",
     "output_type": "stream",
     "text": [
      "probability that they will be alive after 20 years is: 0.35\n"
     ]
    }
   ],
   "source": [
    "# If the probability that person A will be alive in 20 years\n",
    "#is 0.7 and the probability that person B will be alive in\n",
    "# 20 years is 0.5, what is the probability that they will \n",
    "#both be alive in 20 years?\n",
    "\n",
    "#These are independent events, so\n",
    "P = 0.7*0.5\n",
    "print(\"probability that they will be alive after 20 years is:\",P)"
   ]
  },
  {
   "cell_type": "code",
   "execution_count": 30,
   "metadata": {
    "id": "WTd521LiIv4h"
   },
   "outputs": [],
   "source": [
    "def event_probability(n,s):\n",
    "  return n/s"
   ]
  },
  {
   "cell_type": "code",
   "execution_count": 31,
   "metadata": {
    "id": "jLPtvdysJACT"
   },
   "outputs": [
    {
     "name": "stdout",
     "output_type": "stream",
     "text": [
      "probability of getting a 4 or 5 on the first toss and a 1,2, or 3 in the second toss is: 0.16666666666666666\n"
     ]
    }
   ],
   "source": [
    "#A fair die is tossed twice. Find the probability of getting a 4 or 5 on the first toss and a 1,2, or 3 in the second toss.\n",
    "pa = event_probability(2,6) # probability of getting a 4 or 5 on the first toss\n",
    "pb = event_probability(3,6) # probability of getting 1,2,3 in second toss\n",
    "P = pa*pb \n",
    "print(\"probability of getting a 4 or 5 on the first toss and a 1,2, or 3 in the second toss is:\",P)"
   ]
  },
  {
   "cell_type": "code",
   "execution_count": 32,
   "metadata": {
    "id": "RIzJ5XrwI__q"
   },
   "outputs": [
    {
     "name": "stdout",
     "output_type": "stream",
     "text": [
      "the probability of obtaining white, black and green in that order is  0.041666666666666664\n"
     ]
    }
   ],
   "source": [
    "# A bag contains 5 white marbles, 3 black marbles and 2 green marbles. In each draw, a marble is drawn from the bag\n",
    "# and not replaced. In three draws, find the probability of obtaining white, black and green in that order.\n",
    "pw = event_probability(5,10)\n",
    "pb = event_probability(3,9)\n",
    "pg = event_probability(2,8)\n",
    "print(\"the probability of obtaining white, black and green in that order is \",(pw*pb*pg))"
   ]
  },
  {
   "cell_type": "code",
   "execution_count": 33,
   "metadata": {
    "id": "LlaDq001I_9I"
   },
   "outputs": [
    {
     "name": "stdout",
     "output_type": "stream",
     "text": [
      "0.5\n"
     ]
    }
   ],
   "source": [
    "# Sample Space\n",
    "cards = 52\n",
    "\n",
    "# Calculate the probability of drawing a heart or a club\n",
    "hearts = 13\n",
    "clubs = 13\n",
    "heart_or_club = event_probability(hearts, cards) + event_probability(clubs, cards)\n",
    "print(heart_or_club )"
   ]
  },
  {
   "cell_type": "code",
   "execution_count": 34,
   "metadata": {
    "id": "asl_y_RiI_6h"
   },
   "outputs": [
    {
     "name": "stdout",
     "output_type": "stream",
     "text": [
      "0.5\n",
      "0.23076923076923078\n"
     ]
    }
   ],
   "source": [
    "# Calculate the probability of drawing an ace, king, or a queen\n",
    "aces = 4\n",
    "kings = 4\n",
    "queens = 4\n",
    "ace_king_or_queen = event_probability(aces, cards) + event_probability(kings, cards) + event_probability(queens, cards)\n",
    "\n",
    "print(heart_or_club)\n",
    "print(ace_king_or_queen)"
   ]
  },
  {
   "cell_type": "code",
   "execution_count": 35,
   "metadata": {
    "id": "EQczB0z3JF-R"
   },
   "outputs": [
    {
     "name": "stdout",
     "output_type": "stream",
     "text": [
      "0.3\n"
     ]
    }
   ],
   "source": [
    "# Calculate the probability of drawing a heart or an ace\n",
    "hearts = 13\n",
    "aces = 4\n",
    "ace_of_hearts = 1\n",
    "heart_or_ace = event_probability(hearts, cards) + event_probability(aces, cards) - event_probability(ace_of_hearts, cards)\n",
    "print(round(heart_or_ace, 1))"
   ]
  },
  {
   "cell_type": "code",
   "execution_count": 36,
   "metadata": {
    "id": "S0beK4_lJHgZ"
   },
   "outputs": [
    {
     "name": "stdout",
     "output_type": "stream",
     "text": [
      "0.3\n",
      "0.6\n"
     ]
    }
   ],
   "source": [
    "red_cards = 26\n",
    "face_cards = 12\n",
    "red_face_cards = 6\n",
    "red_or_face_cards = event_probability(red_cards, cards) + event_probability(face_cards, cards) - event_probability(red_face_cards, cards)\n",
    "\n",
    "print(round(heart_or_ace, 1))\n",
    "print(round(red_or_face_cards, 1))"
   ]
  },
  {
   "cell_type": "markdown",
   "metadata": {
    "id": "5pHAVNLmJKxA"
   },
   "source": [
    "# Complementary Events\n",
    "For any event E1 there exists another event E1‘ which represents the remaining elements of the sample space S.\n",
    "\n",
    "E1 = S − E1‘\n",
    "\n",
    "If a dice is rolled then the sample space S is given as S = {1 , 2 , 3 , 4 , 5 , 6 }. If event E1 represents all the outcomes which is greater than 4, then E1 = {5, 6} and E1‘ = {1, 2, 3, 4}.\n",
    "\n",
    "Thus E1‘ is the complement of the event E1.\n",
    "\n",
    "Similarly, the complement of E1, E2, E3……….En will be represented as E1‘, E2‘, E3‘……….En‘"
   ]
  },
  {
   "cell_type": "code",
   "execution_count": 37,
   "metadata": {
    "id": "QrXN-wXDJI7a"
   },
   "outputs": [
    {
     "name": "stdout",
     "output_type": "stream",
     "text": [
      "probabilty of not getting 5 is: 0.8333333333333334\n"
     ]
    }
   ],
   "source": [
    "#probabiltiy of not getting 5 when a fair die is rolled\n",
    "ns = 6 #n(S) = {1,2,3,4,5,6}\n",
    "na = 1 #n(A) = {5}\n",
    "pa = na/ns # P(A)\n",
    "print(\"probabilty of not getting 5 is:\",1-pa)"
   ]
  },
  {
   "cell_type": "markdown",
   "metadata": {
    "id": "HbMb6xryJPjC"
   },
   "source": [
    "# Conditional Probability\n",
    "The formula for conditional probability is\n",
    "\n",
    "    P(A|B) = P(A OR B) / P(B).\n",
    "The parts: P(A|B) = probability of A occurring, given B occurs P(A â© B) = probability of both A and B occurring P(B) = probability of B occurring\n",
    "\n",
    "Calculate the probability a student gets an A (80%+) in math, given they miss 10 or more classes."
   ]
  },
  {
   "cell_type": "code",
   "execution_count": 38,
   "metadata": {
    "id": "llQGCmfHJI4x"
   },
   "outputs": [
    {
     "data": {
      "text/html": [
       "<div>\n",
       "<style scoped>\n",
       "    .dataframe tbody tr th:only-of-type {\n",
       "        vertical-align: middle;\n",
       "    }\n",
       "\n",
       "    .dataframe tbody tr th {\n",
       "        vertical-align: top;\n",
       "    }\n",
       "\n",
       "    .dataframe thead th {\n",
       "        text-align: right;\n",
       "    }\n",
       "</style>\n",
       "<table border=\"1\" class=\"dataframe\">\n",
       "  <thead>\n",
       "    <tr style=\"text-align: right;\">\n",
       "      <th></th>\n",
       "      <th>school</th>\n",
       "      <th>sex</th>\n",
       "      <th>age</th>\n",
       "      <th>address</th>\n",
       "      <th>famsize</th>\n",
       "      <th>Pstatus</th>\n",
       "      <th>Medu</th>\n",
       "      <th>Fedu</th>\n",
       "      <th>Mjob</th>\n",
       "      <th>Fjob</th>\n",
       "      <th>...</th>\n",
       "      <th>famrel</th>\n",
       "      <th>freetime</th>\n",
       "      <th>goout</th>\n",
       "      <th>Dalc</th>\n",
       "      <th>Walc</th>\n",
       "      <th>health</th>\n",
       "      <th>absences</th>\n",
       "      <th>G1</th>\n",
       "      <th>G2</th>\n",
       "      <th>G3</th>\n",
       "    </tr>\n",
       "  </thead>\n",
       "  <tbody>\n",
       "    <tr>\n",
       "      <th>0</th>\n",
       "      <td>GP</td>\n",
       "      <td>F</td>\n",
       "      <td>18</td>\n",
       "      <td>U</td>\n",
       "      <td>GT3</td>\n",
       "      <td>A</td>\n",
       "      <td>4</td>\n",
       "      <td>4</td>\n",
       "      <td>at_home</td>\n",
       "      <td>teacher</td>\n",
       "      <td>...</td>\n",
       "      <td>4</td>\n",
       "      <td>3</td>\n",
       "      <td>4</td>\n",
       "      <td>1</td>\n",
       "      <td>1</td>\n",
       "      <td>3</td>\n",
       "      <td>6</td>\n",
       "      <td>5</td>\n",
       "      <td>6</td>\n",
       "      <td>6</td>\n",
       "    </tr>\n",
       "    <tr>\n",
       "      <th>1</th>\n",
       "      <td>GP</td>\n",
       "      <td>F</td>\n",
       "      <td>17</td>\n",
       "      <td>U</td>\n",
       "      <td>GT3</td>\n",
       "      <td>T</td>\n",
       "      <td>1</td>\n",
       "      <td>1</td>\n",
       "      <td>at_home</td>\n",
       "      <td>other</td>\n",
       "      <td>...</td>\n",
       "      <td>5</td>\n",
       "      <td>3</td>\n",
       "      <td>3</td>\n",
       "      <td>1</td>\n",
       "      <td>1</td>\n",
       "      <td>3</td>\n",
       "      <td>4</td>\n",
       "      <td>5</td>\n",
       "      <td>5</td>\n",
       "      <td>6</td>\n",
       "    </tr>\n",
       "    <tr>\n",
       "      <th>2</th>\n",
       "      <td>GP</td>\n",
       "      <td>F</td>\n",
       "      <td>15</td>\n",
       "      <td>U</td>\n",
       "      <td>LE3</td>\n",
       "      <td>T</td>\n",
       "      <td>1</td>\n",
       "      <td>1</td>\n",
       "      <td>at_home</td>\n",
       "      <td>other</td>\n",
       "      <td>...</td>\n",
       "      <td>4</td>\n",
       "      <td>3</td>\n",
       "      <td>2</td>\n",
       "      <td>2</td>\n",
       "      <td>3</td>\n",
       "      <td>3</td>\n",
       "      <td>10</td>\n",
       "      <td>7</td>\n",
       "      <td>8</td>\n",
       "      <td>10</td>\n",
       "    </tr>\n",
       "  </tbody>\n",
       "</table>\n",
       "<p>3 rows × 33 columns</p>\n",
       "</div>"
      ],
      "text/plain": [
       "  school sex  age address famsize Pstatus  Medu  Fedu     Mjob     Fjob  ...  \\\n",
       "0     GP   F   18       U     GT3       A     4     4  at_home  teacher  ...   \n",
       "1     GP   F   17       U     GT3       T     1     1  at_home    other  ...   \n",
       "2     GP   F   15       U     LE3       T     1     1  at_home    other  ...   \n",
       "\n",
       "  famrel freetime  goout  Dalc  Walc health absences G1 G2  G3  \n",
       "0      4        3      4     1     1      3        6  5  6   6  \n",
       "1      5        3      3     1     1      3        4  5  5   6  \n",
       "2      4        3      2     2     3      3       10  7  8  10  \n",
       "\n",
       "[3 rows x 33 columns]"
      ]
     },
     "execution_count": 38,
     "metadata": {},
     "output_type": "execute_result"
    }
   ],
   "source": [
    "import pandas as pd\n",
    "import numpy as np\n",
    "df = pd.read_csv('student-mat.csv')\n",
    "df.head(3)"
   ]
  },
  {
   "cell_type": "markdown",
   "metadata": {
    "id": "mVh6tl_LJXjo"
   },
   "source": [
    "Check the number of records."
   ]
  },
  {
   "cell_type": "code",
   "execution_count": 39,
   "metadata": {
    "id": "YHo-S2r4JI1w"
   },
   "outputs": [
    {
     "data": {
      "text/plain": [
       "395"
      ]
     },
     "execution_count": 39,
     "metadata": {},
     "output_type": "execute_result"
    }
   ],
   "source": [
    "len(df)"
   ]
  },
  {
   "cell_type": "markdown",
   "metadata": {
    "id": "NhTZLQi-JcU4"
   },
   "source": [
    "We are only concerned with the columns, absences (number of absences), and G3 (final grade from 0 to 20).\n",
    "\n",
    "Let us create a couple new boolean columns based on these columns to make our lives easier.\n",
    "\n",
    "Add a boolean column called grade_A noting if a student achieved 80% or higher as a final score. Original values are on a 0 to 20 scale so we multiply by 5."
   ]
  },
  {
   "cell_type": "code",
   "execution_count": 40,
   "metadata": {
    "id": "Q2i_fmdRJZsf"
   },
   "outputs": [],
   "source": [
    "df['grade_A'] = np.where(df['G3']*5 >= 80, 1, 0)"
   ]
  },
  {
   "cell_type": "markdown",
   "metadata": {
    "id": "Pt32xeXuJhko"
   },
   "source": [
    "Make another boolean column called high_absenses with a value of 1 if a student missed 10 or more classes."
   ]
  },
  {
   "cell_type": "code",
   "execution_count": 41,
   "metadata": {
    "id": "dNRSX1yTJZyO"
   },
   "outputs": [],
   "source": [
    "df['high_absenses'] = np.where(df['absences'] >= 10, 1, 0)"
   ]
  },
  {
   "cell_type": "markdown",
   "metadata": {
    "id": "1fUtTvg4Jh-g"
   },
   "source": [
    "Add one more column to make building a pivot table easier."
   ]
  },
  {
   "cell_type": "code",
   "execution_count": 42,
   "metadata": {
    "id": "ShD3456-JZu5"
   },
   "outputs": [],
   "source": [
    "df['count'] = 1"
   ]
  },
  {
   "cell_type": "markdown",
   "metadata": {
    "id": "SOFWMOrmJm7J"
   },
   "source": [
    "And drop all columns we dont care about."
   ]
  },
  {
   "cell_type": "code",
   "execution_count": 43,
   "metadata": {
    "id": "5EVlmcOGJmGo"
   },
   "outputs": [
    {
     "data": {
      "text/html": [
       "<div>\n",
       "<style scoped>\n",
       "    .dataframe tbody tr th:only-of-type {\n",
       "        vertical-align: middle;\n",
       "    }\n",
       "\n",
       "    .dataframe tbody tr th {\n",
       "        vertical-align: top;\n",
       "    }\n",
       "\n",
       "    .dataframe thead th {\n",
       "        text-align: right;\n",
       "    }\n",
       "</style>\n",
       "<table border=\"1\" class=\"dataframe\">\n",
       "  <thead>\n",
       "    <tr style=\"text-align: right;\">\n",
       "      <th></th>\n",
       "      <th>grade_A</th>\n",
       "      <th>high_absenses</th>\n",
       "      <th>count</th>\n",
       "    </tr>\n",
       "  </thead>\n",
       "  <tbody>\n",
       "    <tr>\n",
       "      <th>0</th>\n",
       "      <td>0</td>\n",
       "      <td>0</td>\n",
       "      <td>1</td>\n",
       "    </tr>\n",
       "    <tr>\n",
       "      <th>1</th>\n",
       "      <td>0</td>\n",
       "      <td>0</td>\n",
       "      <td>1</td>\n",
       "    </tr>\n",
       "    <tr>\n",
       "      <th>2</th>\n",
       "      <td>0</td>\n",
       "      <td>1</td>\n",
       "      <td>1</td>\n",
       "    </tr>\n",
       "    <tr>\n",
       "      <th>3</th>\n",
       "      <td>0</td>\n",
       "      <td>0</td>\n",
       "      <td>1</td>\n",
       "    </tr>\n",
       "    <tr>\n",
       "      <th>4</th>\n",
       "      <td>0</td>\n",
       "      <td>0</td>\n",
       "      <td>1</td>\n",
       "    </tr>\n",
       "  </tbody>\n",
       "</table>\n",
       "</div>"
      ],
      "text/plain": [
       "   grade_A  high_absenses  count\n",
       "0        0              0      1\n",
       "1        0              0      1\n",
       "2        0              1      1\n",
       "3        0              0      1\n",
       "4        0              0      1"
      ]
     },
     "execution_count": 43,
     "metadata": {},
     "output_type": "execute_result"
    }
   ],
   "source": [
    "df = df[['grade_A','high_absenses','count']]\n",
    "df.head()"
   ]
  },
  {
   "cell_type": "markdown",
   "metadata": {
    "id": "4cFj76OQJqhh"
   },
   "source": [
    "Now we will create a pivot table from this."
   ]
  },
  {
   "cell_type": "code",
   "execution_count": 44,
   "metadata": {
    "id": "GFs6WVNQJpjA"
   },
   "outputs": [],
   "source": [
    "final= pd.pivot_table(\n",
    "    df, \n",
    "    values='count', \n",
    "    index=['grade_A'], \n",
    "    columns=['high_absenses'], \n",
    "    aggfunc=np.size, \n",
    "    fill_value=0\n",
    ")"
   ]
  },
  {
   "cell_type": "code",
   "execution_count": 45,
   "metadata": {
    "id": "lbPr9tWLJtK5"
   },
   "outputs": [
    {
     "name": "stdout",
     "output_type": "stream",
     "text": [
      "high_absenses    0   1\n",
      "grade_A               \n",
      "0              277  78\n",
      "1               35   5\n"
     ]
    }
   ],
   "source": [
    "print(final)"
   ]
  },
  {
   "cell_type": "markdown",
   "metadata": {
    "id": "puyQC4r_JvCw"
   },
   "source": [
    "We now have all the data we need to do our calculation. Lets start by calculating each individual part in the formula.\n",
    "\n",
    "In our case: P(A) is the probability of a grade of 80% or greater. P(B) is the probability of missing 10 or more classes. P(A|B) is the probability of a 80%+ grade, given missing 10 or more classes.\n",
    "\n",
    "Calculations of parts: P(A) = (35 + 5) / (35 + 5 + 277 + 78) = 0.10126582278481013 P(B) = (78 + 5) / (35 + 5 + 277 + 78) = 0.21012658227848102 P(A OR B) = 5 / (35 + 5 + 277 + 78) = 0.012658227848101266\n",
    "\n",
    "And per the formula,`P(A|B) = P(A Or B) / P(B), put it together.`\n",
    "\n",
    "P(A|B) = 0.012658227848101266/ 0.21012658227848102= 0.06\n",
    "\n",
    "There we have it. The probability of getting at least an 80% final grade, given missing 10 or more classes is 6%. Conclusion\n",
    "\n",
    "While the learning from our specific example is clear - go to class if you want good grades"
   ]
  }
 ],
 "metadata": {
  "colab": {
   "provenance": []
  },
  "kernelspec": {
   "display_name": "Python 3 (ipykernel)",
   "language": "python",
   "name": "python3"
  },
  "language_info": {
   "codemirror_mode": {
    "name": "ipython",
    "version": 3
   },
   "file_extension": ".py",
   "mimetype": "text/x-python",
   "name": "python",
   "nbconvert_exporter": "python",
   "pygments_lexer": "ipython3",
   "version": "3.9.13"
  }
 },
 "nbformat": 4,
 "nbformat_minor": 1
}
